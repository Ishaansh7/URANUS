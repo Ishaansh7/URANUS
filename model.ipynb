{
 "cells": [
  {
   "cell_type": "code",
   "execution_count": 11,
   "metadata": {},
   "outputs": [],
   "source": [
    "import faiss\n",
    "import re\n",
    "import numpy as np\n",
    "import pandas as pd\n",
    "from sklearn.feature_extraction.text import TfidfVectorizer\n",
    "from sklearn.feature_extraction.text import HashingVectorizer\n",
    "from sklearn.metrics.pairwise import cosine_similarity\n",
    "from sklearn.metrics import pairwise_distances"
   ]
  },
  {
   "cell_type": "code",
   "execution_count": 2,
   "metadata": {},
   "outputs": [],
   "source": [
    "metadata = pd.read_csv('final_data.csv').dropna()"
   ]
  },
  {
   "cell_type": "code",
   "execution_count": 3,
   "metadata": {},
   "outputs": [
    {
     "data": {
      "text/html": [
       "<div>\n",
       "<style scoped>\n",
       "    .dataframe tbody tr th:only-of-type {\n",
       "        vertical-align: middle;\n",
       "    }\n",
       "\n",
       "    .dataframe tbody tr th {\n",
       "        vertical-align: top;\n",
       "    }\n",
       "\n",
       "    .dataframe thead th {\n",
       "        text-align: right;\n",
       "    }\n",
       "</style>\n",
       "<table border=\"1\" class=\"dataframe\">\n",
       "  <thead>\n",
       "    <tr style=\"text-align: right;\">\n",
       "      <th></th>\n",
       "      <th>category</th>\n",
       "      <th>headline</th>\n",
       "      <th>links</th>\n",
       "      <th>abstract</th>\n",
       "      <th>keywords</th>\n",
       "      <th>text</th>\n",
       "      <th>sentiment_score</th>\n",
       "      <th>sentiment_label</th>\n",
       "    </tr>\n",
       "  </thead>\n",
       "  <tbody>\n",
       "    <tr>\n",
       "      <th>0</th>\n",
       "      <td>WELLNESS</td>\n",
       "      <td>143 Miles in 35 Days: Lessons Learned</td>\n",
       "      <td>https://www.huffingtonpost.com/entry/running-l...</td>\n",
       "      <td>Resting is part of training. I've confirmed wh...</td>\n",
       "      <td>running-lessons</td>\n",
       "      <td>143 mile 35 day lesson learn rest training i'v...</td>\n",
       "      <td>0.2732</td>\n",
       "      <td>neutral</td>\n",
       "    </tr>\n",
       "    <tr>\n",
       "      <th>1</th>\n",
       "      <td>WELLNESS</td>\n",
       "      <td>Talking to Yourself: Crazy or Crazy Helpful?</td>\n",
       "      <td>https://www.huffingtonpost.com/entry/talking-t...</td>\n",
       "      <td>Think of talking to yourself as a tool to coac...</td>\n",
       "      <td>talking-to-yourself-crazy</td>\n",
       "      <td>talk crazi crazi helpful think talk tool coach...</td>\n",
       "      <td>0.9022</td>\n",
       "      <td>positive</td>\n",
       "    </tr>\n",
       "    <tr>\n",
       "      <th>2</th>\n",
       "      <td>WELLNESS</td>\n",
       "      <td>Crenezumab: Trial Will Gauge Whether Alzheimer...</td>\n",
       "      <td>https://www.huffingtonpost.com/entry/crenezuma...</td>\n",
       "      <td>The clock is ticking for the United States to ...</td>\n",
       "      <td>crenezumab-alzheimers-disease-drug</td>\n",
       "      <td>crenezumab trial gaug alzheimer drug prevent s...</td>\n",
       "      <td>0.0258</td>\n",
       "      <td>neutral</td>\n",
       "    </tr>\n",
       "    <tr>\n",
       "      <th>3</th>\n",
       "      <td>WELLNESS</td>\n",
       "      <td>Oh, What a Difference She Made</td>\n",
       "      <td>https://www.huffingtonpost.com/entry/meaningfu...</td>\n",
       "      <td>If you want to be busy, keep trying to be perf...</td>\n",
       "      <td>meaningful-life</td>\n",
       "      <td>oh differ want busy tri perfect want happy foc...</td>\n",
       "      <td>0.8402</td>\n",
       "      <td>positive</td>\n",
       "    </tr>\n",
       "    <tr>\n",
       "      <th>4</th>\n",
       "      <td>WELLNESS</td>\n",
       "      <td>Bad Love Advice: 9 Lessons To Unlearn</td>\n",
       "      <td>https://www.huffingtonpost.com/entry/bad-love-...</td>\n",
       "      <td>By Carey Moss for YouBeauty.com Love rom-coms,...</td>\n",
       "      <td>bad-love-advice-from-movies</td>\n",
       "      <td>bad love advice 9 lesson unlearn carey moss yo...</td>\n",
       "      <td>0.8779</td>\n",
       "      <td>positive</td>\n",
       "    </tr>\n",
       "  </tbody>\n",
       "</table>\n",
       "</div>"
      ],
      "text/plain": [
       "   category                                           headline  \\\n",
       "0  WELLNESS              143 Miles in 35 Days: Lessons Learned   \n",
       "1  WELLNESS       Talking to Yourself: Crazy or Crazy Helpful?   \n",
       "2  WELLNESS  Crenezumab: Trial Will Gauge Whether Alzheimer...   \n",
       "3  WELLNESS                     Oh, What a Difference She Made   \n",
       "4  WELLNESS              Bad Love Advice: 9 Lessons To Unlearn   \n",
       "\n",
       "                                               links  \\\n",
       "0  https://www.huffingtonpost.com/entry/running-l...   \n",
       "1  https://www.huffingtonpost.com/entry/talking-t...   \n",
       "2  https://www.huffingtonpost.com/entry/crenezuma...   \n",
       "3  https://www.huffingtonpost.com/entry/meaningfu...   \n",
       "4  https://www.huffingtonpost.com/entry/bad-love-...   \n",
       "\n",
       "                                            abstract  \\\n",
       "0  Resting is part of training. I've confirmed wh...   \n",
       "1  Think of talking to yourself as a tool to coac...   \n",
       "2  The clock is ticking for the United States to ...   \n",
       "3  If you want to be busy, keep trying to be perf...   \n",
       "4  By Carey Moss for YouBeauty.com Love rom-coms,...   \n",
       "\n",
       "                             keywords  \\\n",
       "0                     running-lessons   \n",
       "1           talking-to-yourself-crazy   \n",
       "2  crenezumab-alzheimers-disease-drug   \n",
       "3                     meaningful-life   \n",
       "4         bad-love-advice-from-movies   \n",
       "\n",
       "                                                text  sentiment_score  \\\n",
       "0  143 mile 35 day lesson learn rest training i'v...           0.2732   \n",
       "1  talk crazi crazi helpful think talk tool coach...           0.9022   \n",
       "2  crenezumab trial gaug alzheimer drug prevent s...           0.0258   \n",
       "3  oh differ want busy tri perfect want happy foc...           0.8402   \n",
       "4  bad love advice 9 lesson unlearn carey moss yo...           0.8779   \n",
       "\n",
       "  sentiment_label  \n",
       "0         neutral  \n",
       "1        positive  \n",
       "2         neutral  \n",
       "3        positive  \n",
       "4        positive  "
      ]
     },
     "execution_count": 3,
     "metadata": {},
     "output_type": "execute_result"
    }
   ],
   "source": [
    "metadata.head()"
   ]
  },
  {
   "cell_type": "code",
   "execution_count": 5,
   "metadata": {},
   "outputs": [
    {
     "name": "stdout",
     "output_type": "stream",
     "text": [
      "<class 'pandas.core.frame.DataFrame'>\n",
      "Index: 42098 entries, 0 to 44428\n",
      "Data columns (total 8 columns):\n",
      " #   Column           Non-Null Count  Dtype  \n",
      "---  ------           --------------  -----  \n",
      " 0   category         42098 non-null  object \n",
      " 1   headline         42098 non-null  object \n",
      " 2   links            42098 non-null  object \n",
      " 3   abstract         42098 non-null  object \n",
      " 4   keywords         42098 non-null  object \n",
      " 5   text             42098 non-null  object \n",
      " 6   sentiment_score  42098 non-null  float64\n",
      " 7   sentiment_label  42098 non-null  object \n",
      "dtypes: float64(1), object(7)\n",
      "memory usage: 2.9+ MB\n"
     ]
    }
   ],
   "source": [
    "metadata.info()"
   ]
  },
  {
   "cell_type": "code",
   "execution_count": 6,
   "metadata": {},
   "outputs": [],
   "source": [
    "# Preprocess the text data\n",
    "metadata['text'] = metadata['headline'] + \" \" + metadata['abstract']\n",
    "metadata['text'] = metadata['text'].apply(lambda x: x.lower())\n",
    "metadata['text'] = metadata['text'].apply(lambda x: re.sub(r'\\W+', ' ', x))"
   ]
  },
  {
   "cell_type": "code",
   "execution_count": 7,
   "metadata": {},
   "outputs": [],
   "source": [
    "# Initialize the HashingVectorizer\n",
    "vectorizer = HashingVectorizer(n_features=1000, binary=True)"
   ]
  },
  {
   "cell_type": "code",
   "execution_count": 8,
   "metadata": {},
   "outputs": [],
   "source": [
    "# Generate the matrix of hashed features\n",
    "tfidf_matrix = vectorizer.fit_transform(metadata['text'])"
   ]
  },
  {
   "cell_type": "code",
   "execution_count": 9,
   "metadata": {},
   "outputs": [],
   "source": [
    "# Create a FAISS index\n",
    "d = tfidf_matrix.shape[1]\n",
    "index = faiss.IndexFlatL2(d)"
   ]
  },
  {
   "cell_type": "code",
   "execution_count": 10,
   "metadata": {},
   "outputs": [],
   "source": [
    "# Add the vectors to the index\n",
    "index.add(tfidf_matrix.toarray())"
   ]
  },
  {
   "cell_type": "code",
   "execution_count": 12,
   "metadata": {},
   "outputs": [
    {
     "name": "stdout",
     "output_type": "stream",
     "text": [
      "Recommendations for: selena gomez\n",
      "                                                           Headline  Sentiment Score Sentiment Label                                                                                                                                  Links\n",
      "       Kygo Just Teased A Brand New Collaboration With Selena Gomez           0.0000         neutral                                           https://www.huffingtonpost.com/entry/selena-gomez-kygo-new-music_us_589e1278e4b0ab2d2b1503d9\n",
      "      Selena Gomez Shows Love For The Weeknd In Her Instagram Story           0.8555        positive                                               https://www.huffingtonpost.com/entry/selena-gomez-the-weeknd_us_58b44942e4b0780bac2ba469\n",
      "               14 Toronto Film Festival Movies Worth Your Attention           0.2263         neutral                                https://www.huffingtonpost.com/entry/toronto-film-festival-best-movies-2016_us_57e2d379e4b08d73b82f180a\n",
      "         Selena Gomez Basically Had A Threesome On 'SNL' Last Night           0.4939        positive                          https://www.huffingtonpost.com/entry/selena-gomez-saturday-night-live-performance_us_56a5001ae4b0404eb8f1f26e\n",
      "                 Watch Justin Bieber Sing 'My Girl' To Selena Gomez           0.0000         neutral                                    https://www.huffingtonpost.com/entry/justin-bieber-selena-gomez-my-girl_us_5650b2a6e4b0879a5b0b4505\n",
      "So Justin Bieber And Selena Gomez Did Ring In The New Year Together           0.0000         neutral                                   https://www.huffingtonpost.com/entry/justin-bieber-selena-gomez-new-year_us_5a4be8c5e4b06d1621bb5693\n",
      "               The Weeknd Shares Some Selena Gomez PDA On Instagram           0.2960         neutral                                     https://www.huffingtonpost.com/entry/the-weeknd-selena-gomez-instagram_us_58ea381ce4b05413bfe3901a\n",
      " Chris Rock Blasts Selena Gomez As A Bargain Bin Version Of Beyoncé           0.7783        positive https://www.huffingtonpost.com/entry/chris-rock-blasts-selena-gomez-as-bargain-bin-version-of-beyonc%C3%A9_us_575ab233e4b00f97fba7ffec\n",
      "      7 Celebrity Face Swaps That'll Definitely Give You Nightmares           0.0000         neutral                                                   https://www.huffingtonpost.com/entry/celebrity-face-swap_us_57093017e4b0885fb50d423a\n",
      "   The Rock Confirms He Can 'Redirect' A Torpedo With His Bare Hand           0.1779         neutral        https://www.huffingtonpost.com/entry/the-rock-confirms-yes-he-can-move-a-torpedo-with-his-bare-hand_us_58ed3893e4b0ca64d91a1e2a\n"
     ]
    }
   ],
   "source": [
    "def get_recommendations(query, vectorizer, index, metadata, k=10):\n",
    "    # Transform the query into a vector\n",
    "    query_vector = vectorizer.transform([query])\n",
    "    \n",
    "    def search(index, query_vector, k=10):\n",
    "        D, I = index.search(query_vector, k)\n",
    "        return I[0]\n",
    "\n",
    "    # Use the index to find similar items\n",
    "    neighbor_indices = search(index, query_vector.toarray(), k)\n",
    "    \n",
    "    # Fetch sentiment scores and labels corresponding to recommended headlines\n",
    "    recommendations = []\n",
    "    for idx in neighbor_indices:\n",
    "        headline = metadata.iloc[idx]['headline']\n",
    "        links = metadata.iloc[idx]['links']\n",
    "        sentiment_score = metadata.iloc[idx]['sentiment_score']\n",
    "        sentiment_label = metadata.iloc[idx]['sentiment_label']\n",
    "        recommendations.append([headline, sentiment_score, sentiment_label, links])\n",
    "    \n",
    "    # Create a DataFrame from the recommendations\n",
    "    recommendations_df = pd.DataFrame(recommendations, columns=['Headline', 'Sentiment Score', 'Sentiment Label','Links'])\n",
    "    \n",
    "    return recommendations_df.to_string(index=False)\n",
    "\n",
    "\n",
    "x = input(\"Search: \")\n",
    "query = x\n",
    "recommendations_df = get_recommendations(query, vectorizer, index, metadata)\n",
    "print(\"Recommendations for:\", query)\n",
    "print(recommendations_df)"
   ]
  }
 ],
 "metadata": {
  "kernelspec": {
   "display_name": "Python 3",
   "language": "python",
   "name": "python3"
  },
  "language_info": {
   "codemirror_mode": {
    "name": "ipython",
    "version": 3
   },
   "file_extension": ".py",
   "mimetype": "text/x-python",
   "name": "python",
   "nbconvert_exporter": "python",
   "pygments_lexer": "ipython3",
   "version": "3.10.11"
  }
 },
 "nbformat": 4,
 "nbformat_minor": 2
}
